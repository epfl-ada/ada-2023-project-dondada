{
 "cells": [
  {
   "cell_type": "markdown",
   "metadata": {},
   "source": [
    "# Project Milestone 2"
   ]
  },
  {
   "cell_type": "code",
   "execution_count": 2,
   "metadata": {},
   "outputs": [],
   "source": [
    "import numpy as np\n",
    "import pandas as pd\n",
    "import seaborn as sns\n",
    "import matplotlib.pyplot as plt\n",
    "import gzip\n",
    "import os "
   ]
  },
  {
   "cell_type": "markdown",
   "metadata": {},
   "source": [
    "---\n",
    "## Importing datasets\n"
   ]
  },
  {
   "cell_type": "code",
   "execution_count": 3,
   "metadata": {},
   "outputs": [],
   "source": [
    "current_dir = os.getcwd()\n",
    "parent_folder_path = os.path.abspath(os.path.join(current_dir, \"..\"))\n",
    "data_path = os.path.join(parent_folder_path, \"data\")\n",
    "\n",
    "path_ba = data_path + '/BeerAdvocate'\n",
    "path_rb = data_path + '/RateBeer'\n",
    "\n",
    "beers_ba = pd.read_csv(f\"{path_ba}/{'beers.csv'}\")\n",
    "users_ba = pd.read_csv(f\"{path_ba}/{'users.csv'}\")\n",
    "breweries_ba = pd.read_csv(f\"{path_ba}/{'breweries.csv'}\")  \n",
    "beers_rb = pd.read_csv(f\"{path_rb}/{'beers.csv'}\")\n",
    "users_rb = pd.read_csv(f\"{path_rb}/{'users.csv'}\")\n",
    "breweries_rb = pd.read_csv(f\"{path_rb}/{'breweries.csv'}\")  \n"
   ]
  },
  {
   "cell_type": "code",
   "execution_count": 10,
   "metadata": {},
   "outputs": [],
   "source": [
    "def import_gz(path):\n",
    "    try:\n",
    "        # Open compressed file\n",
    "        with gzip.open(path, 'rt') as file:\n",
    "            data = file.read()\n",
    "\n",
    "        # We divide the whole file into different posts (discriminate thanks to empty lines)\n",
    "        posts = data.split('\\n\\n')\n",
    "\n",
    "        # Create a list to store entries for each post\n",
    "        data_list = []\n",
    "\n",
    "        for post in posts.items():\n",
    "            # Split each post by line\n",
    "            lines = post.split('\\n')\n",
    "            post_entry = {}\n",
    "\n",
    "            for line in lines.items():\n",
    "                key, value = line.split(': ')\n",
    "                post_entry[key] = value\n",
    "\n",
    "            data_list.append(post_entry)\n",
    "\n",
    "        # Create a DataFrame from the list of dictionaries\n",
    "        df = pd.DataFrame(data_list)\n",
    "\n",
    "        # Convert numeric columns to numeric values\n",
    "        numeric_columns = ['beer_id', 'brewery_id', 'abv', 'date', 'appearance', 'aroma', 'palate', 'taste', 'overall', 'rating']\n",
    "        df[numeric_columns] = df[numeric_columns].apply(pd.to_numeric)\n",
    "\n",
    "        # Convert 'review' column to boolean values\n",
    "        df['review'] = df['review'] == 'True'\n",
    "\n",
    "        return df\n",
    "    except Exception as e:\n",
    "        print(f\"An error occurred: {e}\")\n",
    "        return None\n",
    "\n"
   ]
  },
  {
   "cell_type": "code",
   "execution_count": 11,
   "metadata": {},
   "outputs": [],
   "source": [
    "ratings_adv = import_gz(f\"{path_ba}/{'ratings.txt.gz'}\")"
   ]
  }
 ],
 "metadata": {
  "kernelspec": {
   "display_name": "ada",
   "language": "python",
   "name": "python3"
  },
  "language_info": {
   "codemirror_mode": {
    "name": "ipython",
    "version": 3
   },
   "file_extension": ".py",
   "mimetype": "text/x-python",
   "name": "python",
   "nbconvert_exporter": "python",
   "pygments_lexer": "ipython3",
   "version": "3.9.18"
  }
 },
 "nbformat": 4,
 "nbformat_minor": 2
}
